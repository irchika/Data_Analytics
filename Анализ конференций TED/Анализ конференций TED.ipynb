{
 "cells": [
  {
   "cell_type": "markdown",
   "id": "107ee207",
   "metadata": {},
   "source": [
    "# Проект \"Анализ конференций TED 2009-2021 годов\""
   ]
  },
  {
   "cell_type": "markdown",
   "id": "a2680136",
   "metadata": {},
   "source": [
    "## Цель проекта:\n",
    "\n",
    "исследование TED-конференций с помощью Tableau, анализ и графическое представление ключевых моментов."
   ]
  },
  {
   "cell_type": "markdown",
   "id": "3cb2bf23",
   "metadata": {},
   "source": [
    "## Ход исследования:\n",
    "\n",
    "1. Определение актуального периода проведения TED-конференций;\n",
    "2. Изучение распределения выступлений по странам \n",
    "3. Определение популярных тематик выступлений и их распределение по годам и по странам, а также изучение таких параметров выступлений, как просмотры, количество апплодисментов и того, сколько раз посмеялись зрители.\n",
    "4. Изучение профессиональной деятельности авторов и их деятельности в рамках TED.\n",
    "5. Определение популярных конференций, их основных тематик и выступлений."
   ]
  },
  {
   "cell_type": "markdown",
   "id": "7a2fc0e5",
   "metadata": {},
   "source": [
    "## Исследование"
   ]
  },
  {
   "cell_type": "markdown",
   "id": "8c68bc7b",
   "metadata": {},
   "source": [
    "Результаты исследования представлены в формате презентации:"
   ]
  },
  {
   "cell_type": "markdown",
   "id": "dc0ca998",
   "metadata": {},
   "source": [
    "<https://public.tableau.com/shared/WFFW7QJKK?:display_count=n&:origin=viz_share_link>"
   ]
  },
  {
   "cell_type": "markdown",
   "id": "00d9b397",
   "metadata": {},
   "source": [
    "## Итоговые выводы:\n",
    "\n",
    "1. Популярность конференций начала расти в 2002 году. По сравнению с 2001 годом количество выступлений выросло в 6,5 раз.\n",
    "2. Чаще всего TED-конференции проходят в США, Канаде и Великобритании.\n",
    "3. Самые популярные темы -  technology,  society, science, global issues, culture.\n",
    "4. Самые популярные конференции - ежегодные конференции TED. На TED2018 было прочитано больше всего лекций - 104 штуки.\n",
    "5. Среди выступающих больше всего писателей,  художников и журналистов.\n",
    "6. 88,5% спикеров выступили по одному разу. Лидер по количеству выступлений - Hans Rosling.\n",
    "7. Самое просматриваемое выступление - \"Do schools kill creativity?\" -  набрало более 70 млн просмотров. Самое длинное видео - \"3 secrets to Netflix's success\" - длится 62 минуты."
   ]
  }
 ],
 "metadata": {
  "ExecuteTimeLog": [
   {
    "duration": 43,
    "start_time": "2024-05-11T19:30:13.402Z"
   }
  ],
  "kernelspec": {
   "display_name": "Python 3 (ipykernel)",
   "language": "python",
   "name": "python3"
  },
  "language_info": {
   "codemirror_mode": {
    "name": "ipython",
    "version": 3
   },
   "file_extension": ".py",
   "mimetype": "text/x-python",
   "name": "python",
   "nbconvert_exporter": "python",
   "pygments_lexer": "ipython3",
   "version": "3.11.5"
  },
  "toc": {
   "base_numbering": 1,
   "nav_menu": {},
   "number_sections": true,
   "sideBar": true,
   "skip_h1_title": true,
   "title_cell": "Table of Contents",
   "title_sidebar": "Contents",
   "toc_cell": false,
   "toc_position": {},
   "toc_section_display": true,
   "toc_window_display": false
  }
 },
 "nbformat": 4,
 "nbformat_minor": 5
}
